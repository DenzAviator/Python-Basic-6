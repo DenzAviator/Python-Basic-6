{
 "cells": [
  {
   "cell_type": "markdown",
   "id": "063842fe",
   "metadata": {},
   "source": [
    "1. What exactly is []?\n",
    "\n",
    "This syntax is commonly used in programming languages to denote an empty list, array, or collection. This \"[]\" brackets typically represents an empty square bracket pair, indicates a container that can hold multiple values."
   ]
  },
  {
   "cell_type": "code",
   "execution_count": 1,
   "id": "5dda50fe",
   "metadata": {},
   "outputs": [
    {
     "name": "stdout",
     "output_type": "stream",
     "text": [
      "[]\n"
     ]
    }
   ],
   "source": [
    "# Creates an empty list\n",
    "\n",
    "my_list = []\n",
    "\n",
    "print(my_list)"
   ]
  },
  {
   "cell_type": "code",
   "execution_count": null,
   "id": "1deb1087",
   "metadata": {},
   "outputs": [],
   "source": []
  },
  {
   "cell_type": "markdown",
   "id": "799346b8",
   "metadata": {},
   "source": [
    "2. In a list of values stored in a variable called spam, how would you assign the value 'hello' as the third value? (Assume [2, 4, 6, 8, 10] are in spam.)\n",
    "\n",
    "To assign the value 'hello' as the third value in the list stored in the variable 'spam', you can use the indexing feature in python and assign the value directly."
   ]
  },
  {
   "cell_type": "code",
   "execution_count": 3,
   "id": "1c3f3304",
   "metadata": {},
   "outputs": [
    {
     "name": "stdout",
     "output_type": "stream",
     "text": [
      "[2, 4, 'hello', 8, 10]\n"
     ]
    }
   ],
   "source": [
    "# Example\n",
    "\n",
    "spam = [2, 4, 6, 8, 10]\n",
    "\n",
    "spam[2] = 'hello'\n",
    "\n",
    "print(spam)"
   ]
  },
  {
   "cell_type": "markdown",
   "id": "b22170b8",
   "metadata": {},
   "source": [
    "In Python, list indices start at 0, so the third value has an index of 2. By assigning the value 'hello' to 'spam[2]', you replace the existing value at that position with 'hello'."
   ]
  },
  {
   "cell_type": "code",
   "execution_count": null,
   "id": "f7db8ee3",
   "metadata": {},
   "outputs": [],
   "source": []
  },
  {
   "cell_type": "markdown",
   "id": "d8746248",
   "metadata": {},
   "source": [
    "3. What is the value of spam[int(int('3' * 2) / 11)]?\n",
    "\n",
    "To determine the value of spam[int(int('3' * 2) / 11)], let's break it down step by step:\n",
    "\n",
    "'3' * 2 multiplies the string '3' by 2, resulting in '33'.\n",
    "int('33') converts the string '33' to an integer with a value of 33.\n",
    "int('33') / 11 performs integer division, dividing 33 by 11, which results in 3.\n",
    "spam[3] accesses the value at index 3 in the spam list or string.\n",
    "However, since you haven't provided the definition or value of the spam variable, I cannot determine the final value for you. Depending on what spam is, it could be a list or a string, and the value at index 3 could be different. Please provide more information about the spam variable for a specific answer."
   ]
  },
  {
   "cell_type": "code",
   "execution_count": 5,
   "id": "64d570fb",
   "metadata": {},
   "outputs": [
    {
     "name": "stdout",
     "output_type": "stream",
     "text": [
      "4\n"
     ]
    }
   ],
   "source": [
    "spam = [1, 2, 3, 4, 5]  # Replace this with the actual definition or value of `spam`\n",
    "\n",
    "value = spam[int(int('3' * 2) / 11)]\n",
    "print(value)"
   ]
  },
  {
   "cell_type": "code",
   "execution_count": null,
   "id": "f930768c",
   "metadata": {},
   "outputs": [],
   "source": []
  },
  {
   "cell_type": "markdown",
   "id": "99b68f4b",
   "metadata": {},
   "source": [
    "4. What is the value of spam[-1]?\n",
    "\n",
    "spam[-1] refers to the last element in the sequence 'spam', let's say 'spam' is a list or string."
   ]
  },
  {
   "cell_type": "code",
   "execution_count": 7,
   "id": "f1aa162c",
   "metadata": {},
   "outputs": [
    {
     "data": {
      "text/plain": [
       "7"
      ]
     },
     "execution_count": 7,
     "metadata": {},
     "output_type": "execute_result"
    }
   ],
   "source": [
    "# Example\n",
    "spam = [1, 2, 3, 6, 7]\n",
    "\n",
    "spam[-1]"
   ]
  },
  {
   "cell_type": "code",
   "execution_count": null,
   "id": "38535366",
   "metadata": {},
   "outputs": [],
   "source": []
  },
  {
   "cell_type": "markdown",
   "id": "5e276800",
   "metadata": {},
   "source": [
    "5. What is the value of spam[:2]?\n",
    "Let's pretend bacon has the list [3.14, 'cat,' 11, 'cat,' True] for the next three questions.\n",
    "\n",
    "Based on the given information, the variable 'spam' is not defined. Therefore, it is not possible to determine the value os spam[:2]. However, if we assume that the given list '[3.14, 'cat', 11, 'cat', True]' is stored in the variable 'bacon', then 'bacon[:2]' would return a new list containing the first two elements of bacon"
   ]
  },
  {
   "cell_type": "code",
   "execution_count": 14,
   "id": "a3f4edbd",
   "metadata": {},
   "outputs": [
    {
     "data": {
      "text/plain": [
       "[3.14, 'cat']"
      ]
     },
     "execution_count": 14,
     "metadata": {},
     "output_type": "execute_result"
    }
   ],
   "source": [
    "bacon = [3.14, 'cat', 11, 'cat', True]\n",
    "        \n",
    "bacon[:2]"
   ]
  },
  {
   "cell_type": "code",
   "execution_count": null,
   "id": "81c54f48",
   "metadata": {},
   "outputs": [],
   "source": []
  },
  {
   "cell_type": "markdown",
   "id": "6463ba2e",
   "metadata": {},
   "source": [
    "6. What is the value of bacon.index('cat')?\n",
    "\n",
    "If we consider the list 'bacon'as [3.14, 'cat', 11, 'cat', True], then"
   ]
  },
  {
   "cell_type": "code",
   "execution_count": 15,
   "id": "101418c0",
   "metadata": {},
   "outputs": [
    {
     "data": {
      "text/plain": [
       "1"
      ]
     },
     "execution_count": 15,
     "metadata": {},
     "output_type": "execute_result"
    }
   ],
   "source": [
    "bacon = [3.14, 'cat', 11, 'cat', True]\n",
    "\n",
    "bacon.index('cat')"
   ]
  },
  {
   "cell_type": "code",
   "execution_count": null,
   "id": "faed7f58",
   "metadata": {},
   "outputs": [],
   "source": []
  },
  {
   "cell_type": "markdown",
   "id": "e45aa284",
   "metadata": {},
   "source": [
    "7. How does bacon.append(99) change the look of the list value in bacon?\n",
    "\n",
    "If we start with the list 'bacon' as [3.14, 'cat', 11, 'cat', True], the 'bacon.append(99)' operation will add the value 99 to the end of the list."
   ]
  },
  {
   "cell_type": "code",
   "execution_count": 17,
   "id": "4e6a43b7",
   "metadata": {},
   "outputs": [
    {
     "name": "stdout",
     "output_type": "stream",
     "text": [
      "[3.14, 'cat', 11, 'cat', True, 99]\n"
     ]
    }
   ],
   "source": [
    "bacon = [3.14, 'cat', 11, 'cat', True]\n",
    "\n",
    "bacon.append(99)\n",
    "\n",
    "print(bacon)"
   ]
  },
  {
   "cell_type": "code",
   "execution_count": null,
   "id": "0758af49",
   "metadata": {},
   "outputs": [],
   "source": []
  },
  {
   "cell_type": "markdown",
   "id": "71aea4ef",
   "metadata": {},
   "source": [
    "8. How does bacon.remove('cat') change the look of the list in bacon?\n",
    "\n",
    "If we start the list 'bacon' as [3.14, 'cat', 11, 'cat', True], the 'bacon.remove('cat')' operation will remove the first occurence of the value 'cat' from the list. After the executing 'bacon.remove('cat')'."
   ]
  },
  {
   "cell_type": "code",
   "execution_count": 18,
   "id": "0b07d9b0",
   "metadata": {},
   "outputs": [
    {
     "name": "stdout",
     "output_type": "stream",
     "text": [
      "[3.14, 11, 'cat', True]\n"
     ]
    }
   ],
   "source": [
    "bacon =  [3.14, 'cat', 11, 'cat', True]\n",
    "\n",
    "bacon.remove('cat')\n",
    "\n",
    "print(bacon)"
   ]
  },
  {
   "cell_type": "code",
   "execution_count": null,
   "id": "e280ac9d",
   "metadata": {},
   "outputs": [],
   "source": []
  },
  {
   "cell_type": "markdown",
   "id": "d85b00fb",
   "metadata": {},
   "source": [
    "9. What are the list concatenation and list replication operators?\n",
    "\n",
    " (a). List Concatenation Operator (+):\n",
    "\n",
    "The plus operator allows you to concatenate or combine two or more lists into a single list. When you use the plus operator between two lists, it creates a new list that contains all the elements from both lists in the order they appear."
   ]
  },
  {
   "cell_type": "code",
   "execution_count": 8,
   "id": "d3e2718a",
   "metadata": {},
   "outputs": [
    {
     "name": "stdout",
     "output_type": "stream",
     "text": [
      "[7, 6, 8, 0, 9, 1]\n"
     ]
    }
   ],
   "source": [
    "list1 = [7, 6, 8]\n",
    "list2 = [0, 9, 1]\n",
    "result = list1 + list2\n",
    "print(result)"
   ]
  },
  {
   "cell_type": "markdown",
   "id": "16df651e",
   "metadata": {},
   "source": [
    "(b). List Replication Operator (*):\n",
    "\n",
    "The asterisk operator allows you to replicate or repeat a list by a specified number of times. When you use the asterisk operator with a list and an integer, it creates a new list by repeating the elements of the original list the given number of times."
   ]
  },
  {
   "cell_type": "code",
   "execution_count": 9,
   "id": "b76d660b",
   "metadata": {},
   "outputs": [
    {
     "name": "stdout",
     "output_type": "stream",
     "text": [
      "[6, 4, 2, 6, 4, 2, 6, 4, 2]\n"
     ]
    }
   ],
   "source": [
    "original_list = [6, 4, 2]\n",
    "replicated_list = original_list * 3\n",
    "print(replicated_list)"
   ]
  },
  {
   "cell_type": "code",
   "execution_count": null,
   "id": "4a820ff3",
   "metadata": {},
   "outputs": [],
   "source": []
  },
  {
   "cell_type": "markdown",
   "id": "bb8be0eb",
   "metadata": {},
   "source": [
    "10. What is difference between the list methods append() and insert()?"
   ]
  },
  {
   "cell_type": "markdown",
   "id": "0bcdccd0",
   "metadata": {},
   "source": [
    "Append() adds an element at the end of a list."
   ]
  },
  {
   "cell_type": "code",
   "execution_count": 19,
   "id": "fff62420",
   "metadata": {},
   "outputs": [
    {
     "name": "stdout",
     "output_type": "stream",
     "text": [
      "[4, 6, 8, 4, 1, 3]\n"
     ]
    }
   ],
   "source": [
    "my_list = [4, 6, 8, 4, 1]\n",
    "\n",
    "my_list.append(3)\n",
    "\n",
    "print(my_list)"
   ]
  },
  {
   "cell_type": "markdown",
   "id": "5568795d",
   "metadata": {},
   "source": [
    "Insert():- Insert an element at a specified position within a list, shifting the existing elements to make room. It takes two arguments: the index at which you want to insert the element, and the value of the element itself."
   ]
  },
  {
   "cell_type": "code",
   "execution_count": 22,
   "id": "58185572",
   "metadata": {},
   "outputs": [
    {
     "name": "stdout",
     "output_type": "stream",
     "text": [
      "[2, 5, 20, 6, 8, 1]\n"
     ]
    }
   ],
   "source": [
    "my_list = [2, 5, 6, 8, 1]\n",
    "\n",
    "my_list.insert(2, 20)\n",
    "\n",
    "print(my_list)"
   ]
  },
  {
   "cell_type": "code",
   "execution_count": null,
   "id": "48d44c1c",
   "metadata": {},
   "outputs": [],
   "source": []
  },
  {
   "cell_type": "markdown",
   "id": "4ae7c9c0",
   "metadata": {},
   "source": [
    "11. What are the two methods for removing items from a list?\n",
    "\n",
    "(a). Using the 'pop()' method.\n",
    "\n",
    "(b). Using the 'remove()' method."
   ]
  },
  {
   "cell_type": "code",
   "execution_count": null,
   "id": "a4ebde4b",
   "metadata": {},
   "outputs": [],
   "source": []
  },
  {
   "cell_type": "markdown",
   "id": "350af22c",
   "metadata": {},
   "source": [
    "12. Describe how list values and string values are identical.\n",
    "\n",
    "Some of the similarities and characteristics of list values and string values that they share are:-\n",
    "    \n",
    "(a). Concatenation Both lists and strings can be concatenated. You can use the '+' operator to combine two or more lists or strings into a new list or string.\n",
    "        \n",
    "(b). Indexing and slicing Both lists and strings support indexing and slicing operations.\n",
    "        \n",
    "(c). Lists and strings are sequence type They can be accessed by their index. This means you can retrieve individual elements by their position within the sequence.\n",
    "\n",
    "(d). Iteration Lists and strings can be iterated over using loops. You can use a for loop to iterate through each element of a list or each character of a string.\n"
   ]
  },
  {
   "cell_type": "code",
   "execution_count": null,
   "id": "62a3ee36",
   "metadata": {},
   "outputs": [],
   "source": []
  },
  {
   "cell_type": "markdown",
   "id": "bbba5e06",
   "metadata": {},
   "source": [
    "13. What's the difference between tuples and lists?\n",
    "\n",
    "Some of the key differences of tuples and lists are:-\n",
    "    \n",
    "    (a). Tuples are immutable, meaning their elements cannot changed after creation. while lists are mutable, allowing for modifications to their elements.\n",
    "    \n",
    "    (b).Tuples are defined using parentheses '()' while lists are defined using square brackets '[]'.\n",
    "    \n",
    " "
   ]
  },
  {
   "cell_type": "code",
   "execution_count": null,
   "id": "ab3f7380",
   "metadata": {},
   "outputs": [],
   "source": []
  },
  {
   "cell_type": "markdown",
   "id": "50b76ab4",
   "metadata": {},
   "source": [
    "14. How do you type a tuple value that only contains the integer 42?\n",
    "\n",
    " You can use parentheses to denote a turple and seperate the value with a comma."
   ]
  },
  {
   "cell_type": "code",
   "execution_count": 25,
   "id": "c32a395c",
   "metadata": {},
   "outputs": [
    {
     "name": "stdout",
     "output_type": "stream",
     "text": [
      "(42,)\n"
     ]
    }
   ],
   "source": [
    "turple_value = (42,)\n",
    "\n",
    "print(turple_value)"
   ]
  },
  {
   "cell_type": "code",
   "execution_count": null,
   "id": "a14e4176",
   "metadata": {},
   "outputs": [],
   "source": []
  },
  {
   "cell_type": "markdown",
   "id": "b72fe706",
   "metadata": {},
   "source": [
    "15. How do you get a list value's tuple form? How do you get a tuple value's list form?\n",
    "\n",
    "To convert a list value into its tuple form, you can use the built-in 'tuple()' function in Python. Here's an example:"
   ]
  },
  {
   "cell_type": "code",
   "execution_count": 5,
   "id": "7316895f",
   "metadata": {},
   "outputs": [
    {
     "name": "stdout",
     "output_type": "stream",
     "text": [
      "(6, 8, 5, 3, 9, 1)\n"
     ]
    }
   ],
   "source": [
    "my_list = [ 6, 8, 5, 3, 9, 1]\n",
    "\n",
    "my_tuple = tuple(my_list)\n",
    "\n",
    "print(my_tuple)"
   ]
  },
  {
   "cell_type": "markdown",
   "id": "b0a64258",
   "metadata": {},
   "source": [
    "The tuple() function takes an iterable (such as a list) and returns a tuple containing the elements of the iterable."
   ]
  },
  {
   "cell_type": "code",
   "execution_count": 4,
   "id": "e46d5688",
   "metadata": {},
   "outputs": [
    {
     "name": "stdout",
     "output_type": "stream",
     "text": [
      "[1, 9, 5, 8, 3, 6]\n"
     ]
    }
   ],
   "source": [
    "# Tuple value into its list form, you can use the 'list()' function.\n",
    "\n",
    "my_tuple = (1, 9, 5, 8, 3, 6)\n",
    "\n",
    "my_list = list(my_tuple)\n",
    "\n",
    "print(my_list)"
   ]
  },
  {
   "cell_type": "markdown",
   "id": "9bfcfc7d",
   "metadata": {},
   "source": [
    "The 'list()' function takes an iterable (such as a tuple) and returns a list containing the elements of the iterable."
   ]
  },
  {
   "cell_type": "code",
   "execution_count": null,
   "id": "c01cbb2e",
   "metadata": {},
   "outputs": [],
   "source": []
  },
  {
   "cell_type": "markdown",
   "id": "8aae1150",
   "metadata": {},
   "source": [
    "16. Variables that \"contain\" list values are not necessarily lists themselves. Instead, what do they contain?\n",
    "\n",
    "Variables that 'contain' list values are not lists themselves, but rather they contain references to lists. In other words, the variables stores the memory address where the list is stored in the computer's memory. This concept is often referred to as a point or a reference.\n",
    "\n",
    "When you assign a list to a variable in many programming languages, you are actually assigning the memory address where the list is stored. This allows you to access and manipulate the list using the variable. Multiple variables can also refer to the same list, so changes made through one variable will be reflected in the list accessed through other variables."
   ]
  },
  {
   "cell_type": "code",
   "execution_count": null,
   "id": "0b23537a",
   "metadata": {},
   "outputs": [],
   "source": []
  },
  {
   "cell_type": "markdown",
   "id": "989dea65",
   "metadata": {},
   "source": [
    "17. How do you distinguish between copy.copy() and copy.deepcopy()?\n",
    "\n",
    "(a). 'copy.copy()' Createsa new object that shares the same internal references as the original object for mutable objects. Changes to the mutable objects through one object will affect the other, but changes the internal structure of the mutable objects won't be reflected.\n",
    "\n",
    "(b). 'copy.deepcopy' Createsa new object and recursively copies all the nested objects, including mutable objects. It ensures completes separation between the original and copied objects, so changes madde to any objects won't affect the other.\n",
    "\n",
    "In simpler terms, 'copy.copy()' makes a partial copy that still links to the original while 'copy.deepcopy()' makes a complete and independent copy."
   ]
  },
  {
   "cell_type": "code",
   "execution_count": null,
   "id": "5a7cc399",
   "metadata": {},
   "outputs": [],
   "source": []
  }
 ],
 "metadata": {
  "kernelspec": {
   "display_name": "Python 3 (ipykernel)",
   "language": "python",
   "name": "python3"
  },
  "language_info": {
   "codemirror_mode": {
    "name": "ipython",
    "version": 3
   },
   "file_extension": ".py",
   "mimetype": "text/x-python",
   "name": "python",
   "nbconvert_exporter": "python",
   "pygments_lexer": "ipython3",
   "version": "3.10.9"
  }
 },
 "nbformat": 4,
 "nbformat_minor": 5
}
